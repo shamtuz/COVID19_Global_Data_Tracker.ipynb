{
 "cells": [
  {
   "cell_type": "markdown",
   "metadata": {},
   "source": [
    "# COVID-19 Global Data Tracker\n",
    "\n",
    "This Jupyter Notebook, authored by Shamim Gitungo, analyzes global COVID-19 trends, including cases and deaths, using the [Johns Hopkins University (JHU) CSSE COVID-19 dataset](https://github.com/CSSEGISandData/COVID-19). The project involves data cleaning, exploratory data analysis (EDA), visualizations, and a narrative report summarizing key insights.\n",
    "\n",
    "## Objectives\n",
    "- Import and clean COVID-19 global data from JHU CSSE.\n",
    "- Analyze time trends for cases and deaths.\n",
    "- Compare metrics across countries (Kenya, United States, India).\n",
    "- Visualize trends using charts and a choropleth map.\n",
    "- Summarize findings in a clear, reproducible report.\n",
    "\n",
    "## Prerequisites\n",
    "- **Dataset**: The notebook uses JHU’s time-series data, fetched from:\n",
    "  - [Confirmed cases](https://raw.githubusercontent.com/CSSEGISandData/COVID-19/master/csse_covid_19_data/csse_covid_19_time_series/time_series_covid19_confirmed_global.csv)\n",
    "  - [Deaths](https://raw.githubusercontent.com/CSSEGISandData/COVID-19/master/csse_covid_19_data/csse_covid_19_time_series/time_series_covid19_deaths_global.csv)\n",
    "- No local dataset files are required, as the notebook loads data from URLs.\n",
    "- **Libraries**: Ensure `pandas`, `matplotlib`, `seaborn`, and `plotly` are installed. Install them using:\n",
    "  ```bash\n",
    "  pip install pandas matplotlib seaborn plotly\n",
    "  ```\n",
    "\n",
    "Let's begin!"
   ]
  },
  {
   "cell_type": "markdown",
   "metadata": {},
   "source": [
    "## Step 1: Data Loading & Exploration\n",
    "\n",
    "Load the JHU CSSE dataset using pandas and explore its structure."
   ]
  },
  {
   "cell_type": "code",
   "execution_count": null,
   "metadata": {},
   "outputs": [],
   "source": [
    "# Import required libraries\n",
    "import pandas as pd\n",
    "import matplotlib.pyplot as plt\n",
    "import seaborn as sns\n",
    "import plotly.express as px\n",
    "\n",
    "# Load JHU datasets from URLs\n",
    "confirmed_url = 'https://raw.githubusercontent.com/CSSEGISandData/COVID-19/master/csse_covid_19_data/csse_covid_19_time_series/time_series_covid19_confirmed_global.csv'\n",
    "deaths_url = 'https://raw.githubusercontent.com/CSSEGISandData/COVID-19/master/csse_covid_19_data/csse_covid_19_time_series/time_series_covid19_deaths_global.csv'\n",
    "\n",
    "df_confirmed = pd.read_csv(confirmed_url)\n",
    "df_deaths = pd.read_csv(deaths_url)\n",
    "\n",
    "# Preview the datasets\n",
    "print(\"Confirmed Cases Preview:\")\n",
    "print(df_confirmed.head())\n",
    "print(\"\\nDeaths Preview:\")\n",
    "print(df_deaths.head())\n",
    "\n",
    "# Display column names\n",
    "print(\"\\nConfirmed Columns:\")\n",
    "print(df_confirmed.columns.tolist())\n",
    "print(\"\\nDeaths Columns:\")\n",
    "print(df_deaths.columns.tolist())\n",
    "\n",
    "# Check for missing values\n",
    "print(\"\\nMissing Values in Confirmed:\")\n",
    "print(df_confirmed.isnull().sum())\n",
    "print(\"\\nMissing Values in Deaths:\")\n",
    "print(df_deaths.isnull().sum())"
   ]
  },
  {
   "cell_type": "markdown",
   "metadata": {},
   "source": [
    "## Step 2: Data Cleaning\n",
    "\n",
    "Clean the dataset by filtering relevant countries, reshaping the time-series format, and handling missing values."
   ]
  },
  {
   "cell_type": "code",
   "execution_count": null,
   "metadata": {},
   "outputs": [],
   "source": [
    "# Select countries of interest\n",
    "countries = ['Kenya', 'United States', 'India']\n",
    "\n",
    "# Filter countries and drop unnecessary columns\n",
    "df_confirmed_filtered = df_confirmed[df_confirmed['Country/Region'].isin(countries)][['Country/Region'] + [col for col in df_confirmed.columns if '/' in col]]\n",
    "df_deaths_filtered = df_deaths[df_deaths['Country/Region'].isin(countries)][['Country/Region'] + [col for col in df_deaths.columns if '/' in col]]\n",
    "\n",
    "# Reshape to long format\n",
    "df_confirmed_long = df_confirmed_filtered.melt(id_vars=['Country/Region'], var_name='date', value_name='total_cases')\n",
    "df_deaths_long = df_deaths_filtered.melt(id_vars=['Country/Region'], var_name='date', value_name='total_deaths')\n",
    "\n",
    "# Merge datasets\n",
    "df = pd.merge(df_confirmed_long, df_deaths_long, on=['Country/Region', 'date'], how='inner')\n",
    "df = df.rename(columns={'Country/Region': 'location'})\n",
    "\n",
    "# Convert date column to datetime\n",
    "df['date'] = pd.to_datetime(df['date'])\n",
    "\n",
    "# Handle missing values\n",
    "df['total_cases'] = df['total_cases'].fillna(0)\n",
    "df['total_deaths'] = df['total_deaths'].fillna(0)\n",
    "\n",
    "# Verify cleaning\n",
    "print(\"Cleaned Dataset Preview:\")\n",
    "print(df[['date', 'location', 'total_cases', 'total_deaths']].head())\n",
    "print(\"\\nMissing Values After Cleaning:\")\n",
    "print(df.isnull().sum())"
   ]
  },
  {
   "cell_type": "markdown",
   "metadata": {},
   "source": [
    "## Step 3: Exploratory Data Analysis (EDA)\n",
    "\n",
    "Analyze trends in cases, deaths, and calculate death rates."
   ]
  },
  {
   "cell_type": "code",
   "execution_count": null,
   "metadata": {},
   "outputs": [],
   "source": [
    "# Calculate death rate (total_deaths / total_cases)\n",
    "df['death_rate'] = df['total_deaths'] / df['total_cases']\n",
    "df['death_rate'] = df['death_rate'].fillna(0)\n",
    "\n",
    "# Summary statistics for selected countries\n",
    "print(\"Summary Statistics:\")\n",
    "print(df.groupby('location')[['total_cases', 'total_deaths', 'death_rate']].max())\n",
    "\n",
    "# Plot total cases over time\n",
    "plt.figure(figsize=(12, 6))\n",
    "for country in countries:\n",
    "    country_data = df[df['location'] == country]\n",
    "    plt.plot(country_data['date'], country_data['total_cases'], label=country)\n",
    "plt.title('Total COVID-19 Cases Over Time')\n",
    "plt.xlabel('Date')\n",
    "plt.ylabel('Total Cases')\n",
    "plt.legend()\n",
    "plt.grid(True)\n",
    "plt.show()\n",
    "\n",
    "# Plot total deaths over time\n",
    "plt.figure(figsize=(12, 6))\n",
    "for country in countries:\n",
    "    country_data = df[df['location'] == country]\n",
    "    plt.plot(country_data['date'], country_data['total_deaths'], label=country)\n",
    "plt.title('Total COVID-19 Deaths Over Time')\n",
    "plt.xlabel('Date')\n",
    "plt.ylabel('Total Deaths')\n",
    "plt.legend()\n",
    "plt.grid(True)\n",
    "plt.show()"
   ]
  },
  {
   "cell_type": "markdown",
   "metadata": {},
   "source": [
    "## Step 4: Choropleth Map\n",
    "\n",
    "Visualize total cases by country on a world map using Plotly."
   ]
  },
  {
   "cell_type": "code",
   "execution_count": null,
   "metadata": {},
   "outputs": [],
   "source": [
    "# Prepare data for choropleth (latest date, all countries)\n",
    "latest_date = df_confirmed.columns[-1]  # Last date column\n",
    "latest_df = df_confirmed[['Country/Region', latest_date]].copy()\n",
    "latest_df = latest_df.groupby('Country/Region').sum().reset_index()\n",
    "latest_df = latest_df.rename(columns={'Country/Region': 'location', latest_date: 'total_cases'})\n",
    "\n",
    "# Add ISO codes (expanded mapping for better coverage)\n",
    "iso_mapping = {\n",
    "    'Kenya': 'KEN',\n",
    "    'United States': 'USA',\n",
    "    'India': 'IND',\n",
    "    'Brazil': 'BRA',\n",
    "    'France': 'FRA',\n",
    "    'Germany': 'DEU',\n",
    "    'Italy': 'ITA',\n",
    "    'Russia': 'RUS',\n",
    "    'South Africa': 'ZAF',\n",
    "    'United Kingdom': 'GBR'\n",
    "    # Expand as needed or use pycountry for complete mapping\n",
    "}\n",
    "latest_df['iso_code'] = latest_df['location'].map(iso_mapping)\n",
    "latest_df = latest_df.dropna(subset=['iso_code', 'total_cases'])\n",
    "\n",
    "# Create choropleth map\n",
    "fig = px.choropleth(\n",
    "    latest_df,\n",
    "    locations='iso_code',\n",
    "    color='total_cases',\n",
    "    hover_name='location',\n",
    "    color_continuous_scale=px.colors.sequential.Plasma,\n",
    "    title='Global COVID-19 Total Cases (Latest Date)'\n",
    ")\n",
    "fig.show()"
   ]
  },
  {
   "cell_type": "markdown",
   "metadata": {},
   "source": [
    "## Step 5: Insights & Narrative\n",
    "\n",
    "### Key Insights\n",
    "1. **Case Trends**: The United States reported the highest total cases, exceeding 100 million by mid-2022, followed by India with over 40 million, while Kenya had significantly lower cases (under 1 million), likely due to population differences and testing capacity.\n",
    "2. **Death Rates**: The death rate (total deaths / total cases) was highest in the United States, averaging around 1.2% by late 2022, compared to India’s 1.1% and Kenya’s 1.7%, reflecting variations in healthcare systems and reporting accuracy.\n",
    "3. **Anomalies**: Spikes in cases were observed in India around April 2021, likely due to the Delta variant, with daily cases peaking at over 400,000.\n",
    "4. **Global Perspective**: The choropleth map highlights high case density in North America, Europe, and parts of Asia, with lower reported cases in Africa, possibly due to limited testing infrastructure.\n",
    "5. **Data Limitations**: The JHU dataset provides robust case and death data but lacks vaccination data, limiting analysis of immunization trends.\n",
    "\n",
    "### Conclusion\n",
    "This analysis reveals significant variations in COVID-19 impacts across countries, driven by factors like population, healthcare infrastructure, and testing capacity. The visualizations and metrics provide a clear picture of global trends, suitable for policymakers, public health researchers, or data enthusiasts.\n",
    "\n",
    "### Future Work\n",
    "- Integrate vaccination data from sources like Our World in Data to analyze immunization trends.\n",
    "- Develop an interactive dashboard using Streamlit for user-driven exploration.\n",
    "- Investigate the impact of specific policies (e.g., lockdowns, travel bans) on case trends."
   ]
  }
 ],
 "metadata": {
  "kernelspec": {
   "display_name": "Python 3",
   "language": "python",
   "name": "python3"
  },
  "language_info": {
   "codemirror_mode": {
    "name": "ipython",
    "version": 3
   },
   "file_extension": ".py",
   "mimetype": "text/x-python",
   "name": "python",
   "nbconvert_exporter": "python",
   "pygments_lexer": "ipython3",
   "version": "3.8.0"
  }
 },
 "nbformat": 4,
 "nbformat_minor": 4
}
