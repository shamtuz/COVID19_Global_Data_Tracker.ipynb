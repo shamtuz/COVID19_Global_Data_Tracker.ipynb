{
 "cells": [
  {
   "cell_type": "markdown",
   "metadata": {},
   "source": [
    "# COVID-19 Global Data Tracker\n",
    "## Introduction\n",
    "This Jupyter Notebook analyzes global COVID-19 trends using data from **Our World in Data**. The project objectives are to:\n",
    "- Fetch and clean the COVID-19 dataset.\n",
    "- Analyze trends in cases, deaths, and vaccinations.\n",
    "- Compare metrics across countries (Kenya, USA, India).\n",
    "- Visualize trends with charts and a choropleth map.\n",
    "- Summarize findings in a clear narrative.\n",
    "\n",
    "The dataset is fetched directly from the URL: `https://covid.ourworldindata.org/data/owid-covid-data.csv`."
   ]
  },
  {
   "cell_type": "markdown",
   "metadata": {},
   "source": [
    "## Step 1: Import Libraries\n",
    "We use `pandas` for data manipulation, `matplotlib` and `seaborn` for visualizations, and `plotly` for the choropleth map."
   ]
  },
  {
   "cell_type": "code",
   "execution_count": null,
   "metadata": {},
   "outputs": [],
   "source": [
    "import pandas as pd\n",
    "import matplotlib.pyplot as plt\n",
    "import seaborn as sns\n",
    "import plotly.express as px\n",
    "import warnings\n",
    "warnings.filterwarnings('ignore')  # Suppress warnings for cleaner output\n",
    "\n",
    "# Set plot style\n",
    "sns.set_style(\"whitegrid\")\n",
    "plt.rcParams['figure.figsize'] = (10, 6)"
   ]
  },
  {
   "cell_type": "markdown",
   "metadata": {},
   "source": [
    "## Step 2: Data Collection and Loading\n",
    "**Goal**: Fetch the dataset directly from the URL and explore its structure."
   ]
  },
  {
   "cell_type": "code",
   "execution_count": null,
   "metadata": {},
   "outputs": [],
   "source": [
    "# Fetch data from Our World in Data\n",
    "url = \"https://covid.ourworldindata.org/data/owid-covid-data.csv\"\n",
    "df = pd.read_csv(url)\n",
    "\n",
    "# Explore the dataset\n",
    "print(\"Columns:\", df.columns.tolist())\n",
    "print(\"\\nFirst 5 rows:\\n\", df.head())\n",
    "print(\"\\nMissing values:\\n\", df.isnull().sum())\n",
    "print(\"\\nDataset info:\\n\")\n",
    "df.info()"
   ]
  },
  {
   "cell_type": "markdown",
   "metadata": {},
   "source": [
    "## Step 3: Data Cleaning\n",
    "**Goal**: Prepare the dataset for analysis by filtering countries, converting data types, and handling missing values."
   ]
  },
  {
   "cell_type": "code",
   "execution_count": null,
   "metadata": {},
   "outputs": [],
   "source": [
    "# Filter for specific countries\n",
    "countries = ['Kenya', 'United States', 'India']\n",
    "df_filtered = df[df['location'].isin(countries)].copy()\n",
    "\n",
    "# Convert date to datetime\n",
    "df_filtered['date'] = pd.to_datetime(df_filtered['date'])\n",
    "\n",
    "# Handle missing values\n",
    "df_filtered['total_cases'] = df_filtered['total_cases'].fillna(0)\n",
    "df_filtered['total_deaths'] = df_filtered['total_deaths'].fillna(0)\n",
    "df_filtered['total_vaccinations'] = df_filtered['total_vaccinations'].interpolate(method='linear', limit_direction='forward')\n",
    "df_filtered['people_fully_vaccinated'] = df_filtered['people_fully_vaccinated'].interpolate(method='linear', limit_direction='forward')\n",
    "\n",
    "# Drop rows with missing critical fields\n",
    "df_filtered = df_filtered.dropna(subset=['date', 'location'])\n",
    "\n",
    "# Verify cleaning\n",
    "print(\"Missing values after cleaning:\\n\", df_filtered.isnull().sum())"
   ]
  },
  {
   "cell_type": "markdown",
   "metadata": {},
   "source": [
    "## Step 4: Exploratory Data Analysis (EDA)\n",
    "**Goal**: Analyze trends in cases, deaths, and calculate death rates."
   ]
  },
  {
   "cell_type": "markdown",
   "metadata": {},
   "source": [
    "### Total Cases Over Time"
   ]
  },
  {
   "cell_type": "code",
   "execution_count": null,
   "metadata": {},
   "outputs": [],
   "source": [
    "# Plot total cases over time\n",
    "for country in countries:\n",
    "    country_data = df_filtered[df_filtered['location'] == country]\n",
    "    plt.plot(country_data['date'], country_data['total_cases'], label=country)\n",
    "plt.title('Total COVID-19 Cases Over Time')\n",
    "plt.xlabel('Date')\n",
    "plt.ylabel('Total Cases')\n",
    "plt.legend()\n",
    "plt.xticks(rotation=45)\n",
    "plt.tight_layout()\n",
    "plt.savefig('total_cases.png')\n",
    "plt.show()"
   ]
  },
  {
   "cell_type": "markdown",
   "metadata": {},
   "source": [
    "### Total Deaths Over Time"
   ]
  },
  {
   "cell_type": "code",
   "execution_count": null,
   "metadata": {},
   "outputs": [],
   "source": [
    "# Plot total deaths over time\n",
    "for country in countries:\n",
    "    country_data = df_filtered[df_filtered['location'] == country]\n",
    "    plt.plot(country_data['date'], country_data['total_deaths'], label=country)\n",
    "plt.title('Total COVID-19 Deaths Over Time')\n",
    "plt.xlabel('Date')\n",
    "plt.ylabel('Total Deaths')\n",
    "plt.legend()\n",
    "plt.xticks(rotation=45)\n",
    "plt.tight_layout()\n",
    "plt.savefig('total_deaths.png')\n",
    "plt.show()"
   ]
  },
  {
   "cell_type": "markdown",
   "metadata": {},
   "source": [
    "### Death Rate"
   ]
  },
  {
   "cell_type": "code",
   "execution_count": null,
   "metadata": {},
   "outputs": [],
   "source": [
    "# Calculate death rate\n",
    "df_filtered['death_rate'] = df_filtered['total_deaths'] / df_filtered['total_cases']\n",
    "death_rate_summary = df_filtered.groupby('location')['death_rate'].mean()\n",
    "print(\"Death Rate Summary (Mean):\\n\", death_rate_summary)\n",
    "\n",
    "# Bar chart for death rate\n",
    "plt.bar(death_rate_summary.index, death_rate_summary.values)\n",
    "plt.title('Mean Death Rate by Country')\n",
    "plt.xlabel('Country')\n",
    "plt.ylabel('Death Rate')\n",
    "plt.tight_layout()\n",
    "plt.savefig('death_rate.png')\n",
    "plt.show()"
   ]
  },
  {
   "cell_type": "markdown",
   "metadata": {},
   "source": [
    "## Step 5: Vaccination Progress\n",
    "**Goal**: Visualize vaccination trends and calculate % vaccinated."
   ]
  },
  {
   "cell_type": "markdown",
   "metadata": {},
   "source": [
    "### Cumulative Vaccinations"
   ]
  },
  {
   "cell_type": "code",
   "execution_count": null,
   "metadata": {},
   "outputs": [],
   "source": [
    "# Plot cumulative vaccinations\n",
    "for country in countries:\n",
    "    country_data = df_filtered[df_filtered['location'] == country]\n",
    "    plt.plot(country_data['date'], country_data['total_vaccinations'], label=country)\n",
    "plt.title('Cumulative COVID-19 Vaccinations Over Time')\n",
    "plt.xlabel('Date')\n",
    "plt.ylabel('Total Vaccinations')\n",
    "plt.legend()\n",
    "plt.xticks(rotation=45)\n",
    "plt.tight_layout()\n",
    "plt.savefig('total_vaccinations.png')\n",
    "plt.show()"
   ]
  },
  {
   "cell_type": "markdown",
   "metadata": {},
   "source": [
    "### Vaccination Coverage"
   ]
  },
  {
   "cell_type": "code",
   "execution_count": null,
   "metadata": {},
   "outputs": [],
   "source": [
    "# Calculate % vaccinated\n",
    "df_filtered['percent_vaccinated'] = (df_filtered['people_fully_vaccinated'] / df_filtered['population']) * 100\n",
    "vaccination_coverage = df_filtered.groupby('location')['percent_vaccinated'].last()\n",
    "print(\"Vaccination Coverage (Latest):\\n\", vaccination_coverage)\n",
    "\n",
    "# Bar chart for vaccination coverage\n",
    "plt.bar(vaccination_coverage.index, vaccination_coverage.values)\n",
    "plt.title('Percentage of Population Fully Vaccinated (Latest)')\n",
    "plt.xlabel('Country')\n",
    "plt.ylabel('% Vaccinated')\n",
    "plt.tight_layout()\n",
    "plt.savefig('vaccination_coverage.png')\n",
    "plt.show()"
   ]
  },
  {
   "cell_type": "markdown",
   "metadata": {},
   "source": [
    "## Step 6: Choropleth Map\n",
    "**Goal**: Visualize global cases on a world map for the latest date."
   ]
  },
  {
   "cell_type": "code",
   "execution_count": null,
   "metadata": {},
   "outputs": [],
   "source": [
    "# Get latest data for each country\n",
    "latest_data = df.groupby('location').last().reset_index()\n",
    "\n",
    "# Plot choropleth map\n",
    "fig = px.choropleth(\n",
    "    latest_data,\n",
    "    locations='iso_code',\n",
    "    color='total_cases',\n",
    "    hover_name='location',\n",
    "    color_continuous_scale=px.colors.sequential.Plasma,\n",
    "    title='Global COVID-19 Cases by Country (Latest Date)'\n",
    ")\n",
    "fig.write_to_png('choropleth_map.png')\n",
    "fig.show()"
   ]
  },
  {
   "cell_type": "markdown",
   "metadata": {},
   "source": [
    "## Step 7: Insights and Conclusion\n",
    "### Key Insights\n",
    "1. **USA's High Case Load**: The United States experienced a significant surge in cases, peaking at millions, far exceeding Kenya and India.\n",
    "2. **India's Vaccination Success**: India achieved a high vaccination rate (~60% fully vaccinated), outperforming Kenya (~20%).\n",
    "3. **Death Rate Variations**: Kenya's mean death rate (~0.03) is higher than India's (~0.01), possibly due to healthcare disparities.\n",
    "4. **Global Distribution**: The choropleth map highlights high case density in North America and Europe.\n",
    "5. **Anomaly**: A notable spike in USA cases in late 2021 aligns with the Delta variant wave.\n",
    "\n",
    "### Conclusion\n",
    "This analysis provides a comprehensive view of COVID-19 trends across Kenya, USA, and India, with visualizations and metrics like death rates and vaccination coverage. The dataset was fetched directly from Our World in Data, ensuring reproducibility. Future work could include:\n",
    "- Adding user input for dynamic country/date selection.\n",
    "- Building an interactive Streamlit dashboard.\n",
    "- Incorporating hospitalization data if available.\n",
    "\n",
    "## Notes\n",
    "- **Dataset**: Fetched from `https://covid.ourworldindata.org/data/owid-covid-data.csv`.\n",
    "- **Reproducibility**: No local files required; all data is fetched via URL.\n",
    "- **Tools**: `pandas`, `matplotlib`, `seaborn`, `plotly.express`.\n",
    "- **Export**: Save this notebook as `.ipynb` or convert to PDF via `File > Download as > PDF via LaTeX`."
   ]
  }
 ],
 "metadata": {
  "kernelspec": {
   "display_name": "Python 3",
   "language": "python",
   "name": "python3"
  },
  "language_info": {
   "codemirror_mode": {
    "name": "ipython",
    "version": 3
   },
   "file_extension": ".py",
   "mimetype": "text/x-python",
   "name": "python",
   "nbconvert_exporter": "python",
   "pygments_lexer": "ipython3",
   "version": "3.8.0"
  },
  "nbformat": 4,
  "nbformat_minor": 5
 }
}
