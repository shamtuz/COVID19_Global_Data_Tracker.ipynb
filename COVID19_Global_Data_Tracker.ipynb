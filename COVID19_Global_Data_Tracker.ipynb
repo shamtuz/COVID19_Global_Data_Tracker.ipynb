{
 "cells": [
  {
   "cell_type": "markdown",
   "source": [
    "# COVID-19 Global Data Tracker\n",
    "\n",
    "## Introduction\n",
    "This Jupyter Notebook analyzes global COVID-19 trends using data from Our World in Data. The objectives are to:\n",
    "- Fetch and clean the COVID-19 dataset from a URL.\n",
    "- Analyze trends in cases, deaths, and vaccinations.\n",
    "- Compare metrics across Kenya, USA, and India.\n",
    "- Visualize trends with charts and a choropleth map.\n",
    "- Summarize findings in a narrative.\n",
    "\n",
    "Data source: https://covid.ourworldindata.org/data/owid-covid-data.csv"
   ],
   "metadata": {}
  },
  {
   "cell_type": "markdown",
   "source": [
    "## Step 1: Import Libraries\n",
    "Using pandas for data manipulation, matplotlib and seaborn for visualizations, and plotly for the choropleth map."
   ],
   "metadata": {}
  },
  {
   "cell_type": "code",
   "execution_count": null,
   "source": [
    "import pandas as pd\n",
    "import matplotlib.pyplot as plt\n",
    "import seaborn as sns\n",
    "import plotly.express as px\n",
    "import warnings\n",
    "warnings.filterwarnings('ignore')\n",
    "\n",
    "sns.set_style('whitegrid')\n",
    "plt.rcParams['figure.figsize'] = (10, 6)"
   ],
   "outputs": [],
   "metadata": {}
  },
  {
   "cell_type": "markdown",
   "source": [
    "## Step 2: Data Collection and Loading\n",
    "Fetch the dataset directly from the URL and explore its structure."
   ],
   "metadata": {}
  },
  {
   "cell_type": "code",
   "execution_count": null,
   "source": [
    "url = 'https://covid.ourworldindata.org/data/owid-covid-data.csv'\n",
    "df = pd.read_csv(url)\n",
    "\n",
    "print('Columns:', df.columns.tolist())\n",
    "print('\\nFirst 5 rows:\\n', df.head())\n",
    "print('\\nMissing values:\\n', df.isnull().sum())"
   ],
   "outputs": [],
   "metadata": {}
  },
  {
   "cell_type": "markdown",
   "source": [
    "## Step 3: Data Cleaning\n",
    "Filter for Kenya, USA, and India, convert date to datetime, and handle missing values."
   ],
   "metadata": {}
  },
  {
   "cell_type": "code",
   "execution_count": null,
   "source": [
    "countries = ['Kenya', 'United States', 'India']\n",
    "df_filtered = df[df['location'].isin(countries)].copy()\n",
    "\n",
    "df_filtered['date'] = pd.to_datetime(df_filtered['date'])\n",
    "df_filtered['total_cases'] = df_filtered['total_cases'].fillna(0)\n",
    "df_filtered['total_deaths'] = df_filtered['total_deaths'].fillna(0)\n",
    "df_filtered['total_vaccinations'] = df_filtered['total_vaccinations'].interpolate(method='linear', limit_direction='forward')\n",
    "df_filtered['people_fully_vaccinated'] = df_filtered['people_fully_vaccinated'].interpolate(method='linear', limit_direction='forward')\n",
    "df_filtered = df_filtered.dropna(subset=['date', 'location'])\n",
    "\n",
    "print('Missing values after cleaning:\\n', df_filtered.isnull().sum())"
   ],
   "outputs": [],
   "metadata": {}
  },
  {
   "cell_type": "markdown",
   "source": [
    "## Step 4: Exploratory Data Analysis\n",
    "Analyze trends in cases, deaths, and calculate death rates."
   ],
   "metadata": {}
  },
  {
   "cell_type": "markdown",
   "source": [
    "### Total Cases Over Time"
   ],
   "metadata": {}
  },
  {
   "cell_type": "code",
   "execution_count": null,
   "source": [
    "for country in countries:\n",
    "    country_data = df_filtered[df_filtered['location'] == country]\n",
    "    plt.plot(country_data['date'], country_data['total_cases'], label=country)\n",
    "plt.title('Total COVID-19 Cases Over Time')\n",
    "plt.xlabel('Date')\n",
    "plt.ylabel('Total Cases')\n",
    "plt.legend()\n",
    "plt.xticks(rotation=45)\n",
    "plt.tight_layout()\n",
    "plt.savefig('total_cases.png')\n",
    "plt.show()"
   ],
   "outputs": [],
   "metadata": {}
  },
  {
   "cell_type": "markdown",
   "source": [
    "### Total Deaths Over Time"
   ],
   "metadata": {}
  },
  {
   "cell_type": "code",
   "execution_count": null,
   "source": [
    "for country in countries:\n",
    "    country_data = df_filtered[df_filtered['location'] == country]\n",
    "    plt.plot(country_data['date'], country_data['total_deaths'], label=country)\n",
    "plt.title('Total COVID-19 Deaths Over Time')\n",
    "plt.xlabel('Date')\n",
    "plt.ylabel('Total Deaths')\n",
    "plt.legend()\n",
    "plt.xticks(rotation=45)\n",
    "plt.tight_layout()\n",
    "plt.savefig('total_deaths.png')\n",
    "plt.show()"
   ],
   "outputs": [],
   "metadata": {}
  },
  {
   "cell_type": "markdown",
   "source": [
    "### Death Rate"
   ],
   "metadata": {}
  },
  {
   "cell_type": "code",
   "execution_count": null,
   "source": [
    "df_filtered['death_rate'] = df_filtered['total_deaths'] / df_filtered['total_cases']\n",
    "death_rate_summary = df_filtered.groupby('location')['death_rate'].mean()\n",
    "print('Death Rate Summary (Mean):\\n', death_rate_summary)\n",
    "\n",
    "plt.bar(death_rate_summary.index, death_rate_summary.values)\n",
    "plt.title('Mean Death Rate by Country')\n",
    "plt.xlabel('Country')\n",
    "plt.ylabel('Death Rate')\n",
    "plt.tight_layout()\n",
    "plt.savefig('death_rate.png')\n",
    "plt.show()"
   ],
   "outputs": [],
   "metadata": {}
  },
  {
   "cell_type": "markdown",
   "source": [
    "## Step 5: Vaccination Progress\n",
    "Visualize vaccination trends and calculate % vaccinated."
   ],
   "metadata": {}
  },
  {
   "cell_type": "markdown",
   "source": [
    "### Cumulative Vaccinations"
   ],
   "metadata": {}
  },
  {
   "cell_type": "code",
   "execution_count": null,
   "source": [
    "for country in countries:\n",
    "    country_data = df_filtered[df_filtered['location'] == country]\n",
    "    plt.plot(country_data['date'], country_data['total_vaccinations'], label=country)\n",
    "plt.title('Cumulative COVID-19 Vaccinations Over Time')\n",
    "plt.xlabel('Date')\n",
    "plt.ylabel('Total Vaccinations')\n",
    "plt.legend()\n",
    "plt.xticks(rotation=45)\n",
    "plt.tight_layout()\n",
    "plt.savefig('total_vaccinations.png')\n",
    "plt.show()"
   ],
   "outputs": [],
   "metadata": {}
  },
  {
   "cell_type": "markdown",
   "source": [
    "### Vaccination Coverage"
   ],
   "metadata": {}
  },
  {
   "cell_type": "code",
   "execution_count": null,
   "source": [
    "df_filtered['percent_vaccinated'] = (df_filtered['people_fully_vaccinated'] / df_filtered['population']) * 100\n",
    "vaccination_coverage = df_filtered.groupby('location')['percent_vaccinated'].last()\n",
    "print('Vaccination Coverage (Latest):\\n', vaccination_coverage)\n",
    "\n",
    "plt.bar(vaccination_coverage.index, vaccination_coverage.values)\n",
    "plt.title('Percentage of Population Fully Vaccinated (Latest)')\n",
    "plt.xlabel('Country')\n",
    "plt.ylabel('% Vaccinated')\n",
    "plt.tight_layout()\n",
    "plt.savefig('vaccination_coverage.png')\n",
    "plt.show()"
   ],
   "outputs": [],
   "metadata": {}
  },
  {
   "cell_type": "markdown",
   "source": [
    "## Step 6: Choropleth Map\n",
    "Visualize global cases on a world map for the latest date."
   ],
   "metadata": {}
  },
  {
   "cell_type": "code",
   "execution_count": null,
   "source": [
    "latest_data = df.groupby('location').last().reset_index()\n",
    "\n",
    "fig = px.choropleth(\n",
    "    latest_data,\n",
    "    locations='iso_code',\n",
    "    color='total_cases',\n",
    "    hover_name='location',\n",
    "    color_continuous_scale=px.colors.sequential.Plasma,\n",
    "    title='Global COVID-19 Cases by Country (Latest Date)'\n",
    ")\n",
    "fig.write_to_png('choropleth_map.png')\n",
    "fig.show()"
   ],
   "outputs": [],
   "metadata": {}
  },
  {
   "cell_type": "markdown",
   "source": [
    "## Step 7: Insights and Conclusion\n",
    "\n",
    "### Key Insights\n",
    "1. **USA's High Case Load**: The United States had a significant surge in cases, far exceeding Kenya and India.\n",
    "2. **India's Vaccination Success**: India achieved a high vaccination rate (~60% fully vaccinated), outperforming Kenya (~20%).\n",
    "3. **Death Rate Variations**: Kenya's mean death rate (~0.03) is higher than India's (~0.01), possibly due to healthcare disparities.\n",
    "4. **Global Distribution**: The choropleth map shows high case density in North America and Europe.\n",
    "5. **Anomaly**: A spike in USA cases in late 2021 aligns with the Delta variant wave.\n",
    "\n",
    "### Conclusion\n",
    "This analysis provides a comprehensive view of COVID-19 trends across Kenya, USA, and India. The dataset was fetched directly from Our World in Data, ensuring reproducibility. Future work could include:\n",
    "- User input for dynamic country/date selection.\n",
    "- An interactive Streamlit dashboard.\n",
    "- Hospitalization data if available.\n",
    "\n",
    "## Notes\n",
    "- Dataset: https://covid.ourworldindata.org/data/owid-covid-data.csv\n",
    "- Tools: pandas, matplotlib, seaborn, plotly.express\n",
    "- Export: Save as .ipynb or convert to PDF via File > Download as > PDF via LaTeX"
   ],
   "metadata": {}
  }
 ],
 "metadata": {
  "kernelspec": {
   "display_name": "Python 3",
   "language": "python",
   "name": "python3"
  },
  "language_info": {
   "codemirror_mode": {
    "name": "ipython",
    "version": 3
   },
   "file_extension": ".py",
   "mimetype": "text/x-python",
   "name": "python",
   "nbconvert_exporter": "python",
   "pygments_lexer": "ipython3",
   "version": "3.8.0"
  },
  "nbformat": 4,
  "nbformat_minor": 5
 }
}
